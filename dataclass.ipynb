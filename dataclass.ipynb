{
 "cells": [
  {
   "cell_type": "markdown",
   "metadata": {},
   "source": [
    "Trying out a \"neater\" way to create classes in python, at least for certain use-cases."
   ]
  },
  {
   "cell_type": "code",
   "execution_count": 2,
   "metadata": {},
   "outputs": [],
   "source": [
    "from dataclasses import dataclass"
   ]
  },
  {
   "cell_type": "markdown",
   "metadata": {},
   "source": [
    "The \"dataclass\" decorator can be used on classes to not have to worry about manually implementing special methods like \"&lowbar;&lowbar;init__\", \"&lowbar;&lowbar;repr__\", \"&lowbar;&lowbar;eq__\", etc., if the implementation of these methods are \"common sensical\" for your class. For a simple class, the &lowbar;&lowbar;init__ method is probably going to be used to initialize the fields of the object using values given to the init method. The &lowbar;&lowbar;repr__ method will probably be used to print out the object as a string. The &lowbar;&lowbar;eq__ method will probably be used to see if the objects are the \"same\" or not based on the field values. The \"dataclass\" decorator provides these \"common-sense\" implementations automatically."
   ]
  },
  {
   "cell_type": "code",
   "execution_count": 5,
   "metadata": {},
   "outputs": [
    {
     "name": "stdout",
     "output_type": "stream",
     "text": [
      "Equal!\n"
     ]
    },
    {
     "data": {
      "text/plain": [
       "(2, 'hi', testOne(val_1=2, val_2='hi'))"
      ]
     },
     "execution_count": 5,
     "metadata": {},
     "output_type": "execute_result"
    }
   ],
   "source": [
    "@dataclass\n",
    "class testOne:\n",
    "    val_1: int = 0\n",
    "    val_2: str = \"\"\n",
    "\n",
    "obj_1 = testOne(2, \"hi\")\n",
    "obj_2 = testOne(2, \"hi\")\n",
    "\n",
    "assert(obj_1 == obj_2), \"Not equal\" # checking __eq__\n",
    "\n",
    "print(\"Equal!\")\n",
    "\n",
    "obj_1.val_1, obj_1.val_2, obj_1"
   ]
  },
  {
   "cell_type": "markdown",
   "metadata": {},
   "source": [
    "Try this for a normal python class."
   ]
  },
  {
   "cell_type": "code",
   "execution_count": 14,
   "metadata": {},
   "outputs": [
    {
     "name": "stdout",
     "output_type": "stream",
     "text": [
      "testTwo() takes no arguments\n",
      "<__main__.testTwo object at 0x754b18595690>\n"
     ]
    },
    {
     "ename": "AssertionError",
     "evalue": "Not equal",
     "output_type": "error",
     "traceback": [
      "\u001b[0;31m---------------------------------------------------------------------------\u001b[0m",
      "\u001b[0;31mAssertionError\u001b[0m                            Traceback (most recent call last)",
      "Cell \u001b[0;32mIn[14], line 15\u001b[0m\n\u001b[1;32m     11\u001b[0m obj_3 \u001b[38;5;241m=\u001b[39m testTwo()\n\u001b[1;32m     13\u001b[0m \u001b[38;5;28mprint\u001b[39m(obj_2) \u001b[38;5;66;03m# prints the address of the object instead of the object as a string i.e. no repr.  \u001b[39;00m\n\u001b[0;32m---> 15\u001b[0m \u001b[38;5;28;01massert\u001b[39;00m(obj_2 \u001b[38;5;241m==\u001b[39m obj_3), \u001b[38;5;124m\"\u001b[39m\u001b[38;5;124mNot equal\u001b[39m\u001b[38;5;124m\"\u001b[39m \u001b[38;5;66;03m# checking __eq__\u001b[39;00m\n",
      "\u001b[0;31mAssertionError\u001b[0m: Not equal"
     ]
    }
   ],
   "source": [
    "class testTwo:\n",
    "    val_1: int = 0\n",
    "    val_2: str = \"\"\n",
    "\n",
    "try: # have to manually define init. \n",
    "  obj_1 = testTwo(2, \"hi\")\n",
    "except Exception as e:\n",
    "    print(e) \n",
    "\n",
    "obj_2 = testTwo()\n",
    "obj_3 = testTwo()\n",
    "\n",
    "print(obj_2) # prints the address of the object instead of the object as a string i.e. no repr.  \n",
    "\n",
    "assert(obj_2 == obj_3), \"Not equal\" # checking __eq__"
   ]
  },
  {
   "cell_type": "markdown",
   "metadata": {},
   "source": [
    "You can also selectively choose the special methods you don't want implementations for. Also, you can easily override the default implementations provided by dataclass by, well, writing those methods manually in the class."
   ]
  },
  {
   "cell_type": "code",
   "execution_count": 16,
   "metadata": {},
   "outputs": [
    {
     "name": "stdout",
     "output_type": "stream",
     "text": [
      "testThree(1)\n"
     ]
    },
    {
     "ename": "AssertionError",
     "evalue": "not equal.",
     "output_type": "error",
     "traceback": [
      "\u001b[0;31m---------------------------------------------------------------------------\u001b[0m",
      "\u001b[0;31mAssertionError\u001b[0m                            Traceback (most recent call last)",
      "Cell \u001b[0;32mIn[16], line 13\u001b[0m\n\u001b[1;32m      9\u001b[0m obj_2 \u001b[38;5;241m=\u001b[39m testThree(\u001b[38;5;241m1\u001b[39m)\n\u001b[1;32m     11\u001b[0m \u001b[38;5;28mprint\u001b[39m(obj_1)\n\u001b[0;32m---> 13\u001b[0m \u001b[38;5;28;01massert\u001b[39;00m(obj_1 \u001b[38;5;241m==\u001b[39m obj_2), \u001b[38;5;124m\"\u001b[39m\u001b[38;5;124mnot equal.\u001b[39m\u001b[38;5;124m\"\u001b[39m\n",
      "\u001b[0;31mAssertionError\u001b[0m: not equal."
     ]
    }
   ],
   "source": [
    "@dataclass(eq=False)\n",
    "class testThree:\n",
    "    val: int = 0\n",
    "    \n",
    "    def __repr__(self):\n",
    "        return f\"testThree({self.val})\"\n",
    "    \n",
    "obj_1 = testThree(1)\n",
    "obj_2 = testThree(1)\n",
    "\n",
    "print(obj_1)\n",
    "\n",
    "assert(obj_1 == obj_2), \"not equal.\""
   ]
  }
 ],
 "metadata": {
  "kernelspec": {
   "display_name": "venv",
   "language": "python",
   "name": "python3"
  },
  "language_info": {
   "codemirror_mode": {
    "name": "ipython",
    "version": 3
   },
   "file_extension": ".py",
   "mimetype": "text/x-python",
   "name": "python",
   "nbconvert_exporter": "python",
   "pygments_lexer": "ipython3",
   "version": "3.10.12"
  }
 },
 "nbformat": 4,
 "nbformat_minor": 2
}
