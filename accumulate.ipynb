{
 "cells": [
  {
   "cell_type": "markdown",
   "metadata": {},
   "source": [
    "\"accumulate\" in Python gives you the results of \"partial\" operations amongst the elements in a list, given some initial value."
   ]
  },
  {
   "cell_type": "code",
   "execution_count": 2,
   "metadata": {},
   "outputs": [],
   "source": [
    "import itertools, operator"
   ]
  },
  {
   "cell_type": "markdown",
   "metadata": {},
   "source": [
    "\"initial\" refers to the value that we start from. In the below example, the results in \"partial_ops\" are results of these operations: <br><br>\n",
    "-> prev_val = 1 (initial value) <br>\n",
    "-> prev_val = prev_val * a[0] = 1 * 1 = 1 <br>\n",
    "-> prev_val = prev_val * a[1] = 1 * 2 = 2 <br>\n",
    "-> prev_val = prev_val * a[2] = 2 * 5 = 10 <br>\n",
    "-> prev_val = prev_val * a[3] = 10 * 2 = 20 <br> <br>\n",
    "Therefore, the final list is: (1, 1, 2, 10, 20)"
   ]
  },
  {
   "cell_type": "code",
   "execution_count": 7,
   "metadata": {},
   "outputs": [
    {
     "name": "stdout",
     "output_type": "stream",
     "text": [
      "<itertools.accumulate object at 0x7f63be5b3100>\n"
     ]
    },
    {
     "data": {
      "text/plain": [
       "(1, 1, 2, 10, 20)"
      ]
     },
     "execution_count": 7,
     "metadata": {},
     "output_type": "execute_result"
    }
   ],
   "source": [
    "a = [1, 2, 5, 2]\n",
    "\n",
    "partial_ops = itertools.accumulate(a, operator.mul, initial=1)\n",
    "print(partial_ops) # we have to convert this object to a tuple or sth. like that first.\n",
    "\n",
    "partial_ops = tuple(partial_ops)\n",
    "\n",
    "partial_ops"
   ]
  },
  {
   "cell_type": "markdown",
   "metadata": {},
   "source": [
    "One cool application of this is calculating strides from shapes, assuming that elements are stored contiguously in memory row-major. I found this code in tinygrad's \"view.py\": https://github.com/tinygrad/tinygrad/blob/master/tinygrad/shape/view.py"
   ]
  },
  {
   "cell_type": "code",
   "execution_count": 10,
   "metadata": {},
   "outputs": [
    {
     "data": {
      "text/plain": [
       "(0, 10, 2, 1)"
      ]
     },
     "execution_count": 10,
     "metadata": {},
     "output_type": "execute_result"
    }
   ],
   "source": [
    "shape = [1, 2, 5, 2] # shape of a tensor, for instance. B x C x H x W\n",
    "\n",
    "strides = tuple(itertools.accumulate(reversed(shape[1:]), operator.mul, initial=1)) # makes sense if you think about it.\n",
    "strides = strides[::-1]  # reversing it.\n",
    "strides = tuple(0 if s == 1 else st for s, st in zip(shape, strides)) # for shape dim whose value is 1, the stride is 0 canonically. makes sense.\n",
    "\n",
    "strides\n"
   ]
  }
 ],
 "metadata": {
  "kernelspec": {
   "display_name": "venv",
   "language": "python",
   "name": "python3"
  },
  "language_info": {
   "codemirror_mode": {
    "name": "ipython",
    "version": 3
   },
   "file_extension": ".py",
   "mimetype": "text/x-python",
   "name": "python",
   "nbconvert_exporter": "python",
   "pygments_lexer": "ipython3",
   "version": "3.10.12"
  }
 },
 "nbformat": 4,
 "nbformat_minor": 2
}
