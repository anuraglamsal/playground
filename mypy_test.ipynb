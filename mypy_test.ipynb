{
 "cells": [
  {
   "cell_type": "markdown",
   "metadata": {},
   "source": [
    "Btw, to use mypy on a normal Python file, just exectue the file using 'mypy' i.e. do 'mypy file_name.py'. I'm using 'mypy-ipython' package here. \n",
    "https://pypi.org/project/mypy-ipython/"
   ]
  },
  {
   "cell_type": "code",
   "execution_count": 1,
   "metadata": {},
   "outputs": [],
   "source": [
    "#load this extension for type-checking to work throughout our notebook.\n",
    "%load_ext mypy_ipython "
   ]
  },
  {
   "cell_type": "markdown",
   "metadata": {},
   "source": [
    "Playing with mypy static type checker."
   ]
  },
  {
   "cell_type": "code",
   "execution_count": 2,
   "metadata": {},
   "outputs": [
    {
     "name": "stdout",
     "output_type": "stream",
     "text": [
      "<class 'float'>\n"
     ]
    }
   ],
   "source": [
    "class test:\n",
    "    #Because Python is dynamically typed, by default, these types are just \"hints\" for improved readability. \n",
    "    #But you can exploit these hints to do static type checking by using the \"mypy\" package for instance.\n",
    "    def __init__(self, data: int | bool): #This is neater than doing Union[int, bool]. You also have to do 'from typing import Union' for Union to work.\n",
    "        print(type(data)) #Python doesn't care about the hints. The hints are just hints. Python, in its core, is dynamically typed I guess.\n",
    "        \n",
    "obj = test(2.1)"
   ]
  },
  {
   "cell_type": "markdown",
   "metadata": {},
   "source": [
    "Run the below command to do the type checking. Run this after running the cell that you want to perform type-checking on. "
   ]
  },
  {
   "cell_type": "code",
   "execution_count": 3,
   "metadata": {},
   "outputs": [
    {
     "name": "stdout",
     "output_type": "stream",
     "text": [
      "    obj = test(2.1)\n",
      "\u001b[1m\u001b[31merror:\u001b[m Argument 1 to \u001b[m\u001b[1m\"test\"\u001b[m has incompatible type \u001b[m\u001b[1m\"float\"\u001b[m; expected \u001b[m\u001b[1m\"int | bool\"\u001b[m  \u001b[m\u001b[33m[arg-type]\u001b[m\n",
      "\u001b[1m\u001b[31mFound 1 error in 1 file (checked 1 source file)\u001b[m\n"
     ]
    },
    {
     "name": "stderr",
     "output_type": "stream",
     "text": [
      "Type checking failed\n"
     ]
    }
   ],
   "source": [
    "%mypy #run this cell after running the cell that you want to perform type checking on. "
   ]
  }
 ],
 "metadata": {
  "kernelspec": {
   "display_name": "venv",
   "language": "python",
   "name": "python3"
  },
  "language_info": {
   "codemirror_mode": {
    "name": "ipython",
    "version": 3
   },
   "file_extension": ".py",
   "mimetype": "text/x-python",
   "name": "python",
   "nbconvert_exporter": "python",
   "pygments_lexer": "ipython3",
   "version": "3.10.12"
  }
 },
 "nbformat": 4,
 "nbformat_minor": 2
}
