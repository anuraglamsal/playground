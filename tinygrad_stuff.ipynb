{
 "cells": [
  {
   "cell_type": "markdown",
   "metadata": {},
   "source": [
    "Restart the jupyter kernel if you want to use new instances of the env vars. "
   ]
  },
  {
   "cell_type": "code",
   "execution_count": 1,
   "metadata": {},
   "outputs": [
    {
     "name": "stdout",
     "output_type": "stream",
     "text": [
      "env: DEBUG=5\n",
      "env: CPU=0\n",
      "env: BEAM=1\n"
     ]
    }
   ],
   "source": [
    "%env DEBUG=5\n",
    "%env CPU=0\n",
    "%env BEAM=1"
   ]
  },
  {
   "cell_type": "code",
   "execution_count": 2,
   "metadata": {},
   "outputs": [],
   "source": [
    "from tinygrad.tensor import Tensor"
   ]
  },
  {
   "cell_type": "code",
   "execution_count": 3,
   "metadata": {},
   "outputs": [
    {
     "name": "stdout",
     "output_type": "stream",
     "text": [
      "CLDevice: got 2 platforms and 2 devices\n",
      "ScheduleItem(ast=LazyOp(op=BufferOps.STORE, src=(LazyOp(op=ReduceOps.MAX, src=(LazyOp(op=BinaryOps.ADD, src=(LazyOp(op=BufferOps.LOAD, src=(), arg=MemBuffer(idx=1, dtype=dtypes.int, st=ShapeTracker(views=(View(shape=(2, 3), strides=(3, 1), offset=0, mask=None, contiguous=True),)))), LazyOp(op=BufferOps.LOAD, src=(), arg=MemBuffer(idx=2, dtype=dtypes.int, st=ShapeTracker(views=(View(shape=(2, 3), strides=(3, 1), offset=0, mask=None, contiguous=True),))))), arg=None),), arg=(1, 1)),), arg=MemBuffer(idx=0, dtype=dtypes.int, st=ShapeTracker(views=(View(shape=(1, 1), strides=(0, 0), offset=0, mask=None, contiguous=True),)))), out=<LB GPU (1, 1) contig:True (<ReduceOps.MAX: 2>, None)>, inputs=(<LB GPU (2, 3) contig:True (<LoadOps.COPY: 3>, None)>, <LB GPU (2, 3) contig:True (<LoadOps.COPY: 3>, None)>), var_vals={})\n",
      "*** GPU        1 \u001b[33mcopy        6,     GPU <- CPU    \u001b[0m     arg   2 mem  0.00 GB tm   1634.18us/     1.63ms (    0.00 GFLOPS,    0.00 GB/s)\n",
      "*** GPU        2 \u001b[33mcopy        6,     GPU <- CPU    \u001b[0m     arg   2 mem  0.00 GB tm    233.76us/     1.87ms (    0.00 GFLOPS,    0.00 GB/s)\n",
      "  0 ━┳ STORE MemBuffer(idx=0, dtype=dtypes.int, st=ShapeTracker(views=(View(shape=(1, 1), strides=(0, 0), offset=0, mask=None, contiguous=True),)))\n",
      "  1  ┗━┳ MAX (1, 1)\n",
      "  2    ┗━┳ ADD \n",
      "  3      ┣━━ LOAD MemBuffer(idx=1, dtype=dtypes.int, st=ShapeTracker(views=(View(shape=(2, 3), strides=(3, 1), offset=0, mask=None, contiguous=True),)))\n",
      "  4      ┗━━ LOAD MemBuffer(idx=2, dtype=dtypes.int, st=ShapeTracker(views=(View(shape=(2, 3), strides=(3, 1), offset=0, mask=None, contiguous=True),)))\n",
      "beam1  : \u001b[31m6\u001b[0m                              :     7.52 us  <  hc     : \u001b[35m6\u001b[0m                              :     7.68 us\n",
      "   0 UOps.DEFINE_GLOBAL  : ptr.dtypes.int            []                               data0\n",
      "   1 UOps.DEFINE_GLOBAL  : ptr.dtypes.int            []                               data1\n",
      "   2 UOps.DEFINE_GLOBAL  : ptr.dtypes.int            []                               data2\n",
      "   3 UOps.DEFINE_ACC     : dtypes.int                []                               -2147483648\n",
      "   4 UOps.CONST          : dtypes.int                []                               0\n",
      "   5 UOps.CONST          : dtypes.int                []                               6\n",
      "   6 UOps.LOOP           : dtypes.int                [4, 5]                           None\n",
      "   7 UOps.LOAD           : dtypes.int                [1, 6]                           None\n",
      "   8 UOps.LOAD           : dtypes.int                [2, 6]                           None\n",
      "   9 UOps.ALU            : dtypes.int                [7, 8]                           BinaryOps.ADD\n",
      "  10 UOps.ALU            : dtypes.int                [9, 3]                           BinaryOps.MAX\n",
      "  11 UOps.PHI            : dtypes.int                [3, 10, 6]                       None\n",
      "  12 UOps.END            :                           [6]                              None\n",
      "  13 UOps.STORE          :                           [0, 4, 11]                       None\n",
      "__kernel void r_6(__global int* data0, const __global int* data1, const __global int* data2) {\n",
      "  int acc0 = -2147483648;\n",
      "  for (int ridx0 = 0; ridx0 < 6; ridx0++) {\n",
      "    int val0 = data1[ridx0];\n",
      "    int val1 = data2[ridx0];\n",
      "    int alu0 = max((val0+val1),acc0);\n",
      "    acc0 = alu0;\n",
      "  }\n",
      "  data0[0] = acc0;\n",
      "}\n",
      "\u001b[32m*** GPU        3\u001b[0m r_\u001b[31m6\u001b[0m\u001b[90m\u001b[0m                                   arg   3 mem  0.00 GB tm     20.64us/     1.89ms (    0.00 GFLOPS,    0.00 GB/s)\n"
     ]
    },
    {
     "data": {
      "text/plain": [
       "<Tensor <LB GPU () contig:True ShapeTracker(views=(View(shape=(), strides=(), offset=0, mask=None, contiguous=True),))> on GPU with grad None>"
      ]
     },
     "execution_count": 3,
     "metadata": {},
     "output_type": "execute_result"
    }
   ],
   "source": [
    "tens = (Tensor([[1, 2, 3], [4, 5, 6]]) + Tensor([[1, 1, 1], [1, 1, 1]])).max()\n",
    "print(tens.lazydata.schedule()[2]) # the AST of the operation.  \n",
    "tens.realize() # Actually perform the required computations."
   ]
  },
  {
   "cell_type": "markdown",
   "metadata": {},
   "source": [
    "1 copy => Copies the first data from CPU buffer to GPU buffer \\\n",
    "\\\n",
    "2 copy => Copies the second data from CPU buffer to GPU buffer \\\n",
    "\\\n",
    "3 r_6 => This is the kernel which will perform the computation. DEBUG=3 shows the AST of the kernel too. DEBUG=5 shows the Uops and the corresponding kernel code too, which is nice. "
   ]
  }
 ],
 "metadata": {
  "kernelspec": {
   "display_name": "venv",
   "language": "python",
   "name": "python3"
  },
  "language_info": {
   "codemirror_mode": {
    "name": "ipython",
    "version": 3
   },
   "file_extension": ".py",
   "mimetype": "text/x-python",
   "name": "python",
   "nbconvert_exporter": "python",
   "pygments_lexer": "ipython3",
   "version": "3.10.12"
  }
 },
 "nbformat": 4,
 "nbformat_minor": 2
}
