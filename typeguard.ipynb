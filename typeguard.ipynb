{
 "cells": [
  {
   "cell_type": "code",
   "execution_count": 1,
   "metadata": {},
   "outputs": [],
   "source": [
    "from typing import Sequence, TypeGuard\n",
    "%load_ext mypy_ipython"
   ]
  },
  {
   "cell_type": "code",
   "execution_count": 2,
   "metadata": {},
   "outputs": [
    {
     "name": "stdout",
     "output_type": "stream",
     "text": [
      "hi,  hello!\n"
     ]
    }
   ],
   "source": [
    "def is_str_list(val: Sequence[object]) -> bool:\n",
    "    return all(isinstance(x, str) for x in val)\n",
    "\n",
    "def func1(val: Sequence[object]):\n",
    "    if is_str_list(val):\n",
    "      print(\" \".join(val)) \n",
    "        \n",
    "x = [\"hi, \", \"hello!\"]    \n",
    "func1(x)"
   ]
  },
  {
   "cell_type": "markdown",
   "metadata": {},
   "source": [
    "Type-checker throws an error here. Even though we verified that the sequence consists only of strings, it still throws error. How to prevent this? This is where TypeGuard comes in."
   ]
  },
  {
   "cell_type": "code",
   "execution_count": 3,
   "metadata": {},
   "outputs": [
    {
     "name": "stdout",
     "output_type": "stream",
     "text": [
      "\u001b[34mnote:\u001b[m In function \u001b[m\u001b[1m\"func1\"\u001b[m:\u001b[m\n",
      "          print(\" \".join(val)) \n",
      "\u001b[1m\u001b[31merror:\u001b[m Argument 1 to \u001b[m\u001b[1m\"join\"\u001b[m of \u001b[m\u001b[1m\"str\"\u001b[m has incompatible type \u001b[m\u001b[1m\"Sequence[object]\"\u001b[m; expected \u001b[m\u001b[1m\"Iterable[str]\"\u001b[m  \u001b[m\u001b[33m[arg-type]\u001b[m\n",
      "\u001b[1m\u001b[31mFound 1 error in 1 file (checked 1 source file)\u001b[m\n"
     ]
    },
    {
     "name": "stderr",
     "output_type": "stream",
     "text": [
      "Type checking failed\n"
     ]
    }
   ],
   "source": [
    "%mypy"
   ]
  },
  {
   "cell_type": "markdown",
   "metadata": {},
   "source": [
    "Now, let's use TypeGuard."
   ]
  },
  {
   "cell_type": "code",
   "execution_count": 4,
   "metadata": {},
   "outputs": [
    {
     "name": "stdout",
     "output_type": "stream",
     "text": [
      "hi,  hello!\n"
     ]
    }
   ],
   "source": [
    "def is_str_list(val: Sequence[object]) -> TypeGuard[Sequence[str]]:\n",
    "    return all(isinstance(x, str) for x in val)\n",
    "\n",
    "def func1(val: Sequence[object]):\n",
    "    if is_str_list(val):\n",
    "      print(\" \".join(val)) \n",
    "        \n",
    "x = [\"hi, \", \"hello!\"]    \n",
    "func1(x)"
   ]
  },
  {
   "cell_type": "markdown",
   "metadata": {},
   "source": [
    "No error is thrown here. In the TypeGuard, we are basically indicating that if the \"is_str_list\" function returns True, then that means the given sequence is a sequence of strings. And the type checker will carry that information in the if-block conditioned on \"is_str_list\"; therefore, no error is thrown. All in all, TypeGuard does \"type narrowing.\" For more info: https://peps.python.org/pep-0647/"
   ]
  },
  {
   "cell_type": "code",
   "execution_count": 5,
   "metadata": {},
   "outputs": [
    {
     "name": "stdout",
     "output_type": "stream",
     "text": [
      "\u001b[1m\u001b[32mSuccess: no issues found in 1 source file\u001b[m\n",
      "Type checking successful\n"
     ]
    }
   ],
   "source": [
    "%mypy"
   ]
  }
 ],
 "metadata": {
  "kernelspec": {
   "display_name": "venv",
   "language": "python",
   "name": "python3"
  },
  "language_info": {
   "codemirror_mode": {
    "name": "ipython",
    "version": 3
   },
   "file_extension": ".py",
   "mimetype": "text/x-python",
   "name": "python",
   "nbconvert_exporter": "python",
   "pygments_lexer": "ipython3",
   "version": "3.10.12"
  }
 },
 "nbformat": 4,
 "nbformat_minor": 2
}
