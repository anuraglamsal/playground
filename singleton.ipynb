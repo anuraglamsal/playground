{
 "cells": [
  {
   "cell_type": "markdown",
   "metadata": {},
   "source": [
    "Exploring a way to achieve \"Singleton\" in Python i.e. restricting the creation of multiple objects of a class. Here, we'll see a way to restrict the creation of multiple objects with same constructer input arguments. "
   ]
  },
  {
   "cell_type": "code",
   "execution_count": 1,
   "metadata": {},
   "outputs": [],
   "source": [
    "import functools"
   ]
  },
  {
   "cell_type": "code",
   "execution_count": 2,
   "metadata": {},
   "outputs": [],
   "source": [
    "class MyClass:\n",
    "\n",
    "    def __init__(self, name):\n",
    "        self.name = name "
   ]
  },
  {
   "cell_type": "markdown",
   "metadata": {},
   "source": [
    "What \"lru_cache\" does is it caches the function call for the same arguments. Basically, it returns the same output if the function is called with the same arguments again. You can see how \"Singleton\" can be achieved with this for objects created using same constructor input parameters. Instead of creating the objects directly, you create them through this method. "
   ]
  },
  {
   "cell_type": "code",
   "execution_count": 3,
   "metadata": {},
   "outputs": [],
   "source": [
    "@functools.lru_cache(maxsize=None)\n",
    "def createInstance(name):\n",
    "    return MyClass(name)"
   ]
  },
  {
   "cell_type": "markdown",
   "metadata": {},
   "source": [
    "Here, we create the objects directly. You get what you expect here i.e. the IDs of the objects are different i.e. they are in different memory locations i.e. they aren't the same objects even though their constructor input parameter is the same. "
   ]
  },
  {
   "cell_type": "code",
   "execution_count": 4,
   "metadata": {},
   "outputs": [
    {
     "name": "stdout",
     "output_type": "stream",
     "text": [
      "140514020570928 140514047604864\n"
     ]
    },
    {
     "ename": "AssertionError",
     "evalue": "They are not equal.",
     "output_type": "error",
     "traceback": [
      "\u001b[0;31m---------------------------------------------------------------------------\u001b[0m",
      "\u001b[0;31mAssertionError\u001b[0m                            Traceback (most recent call last)",
      "Cell \u001b[0;32mIn[4], line 6\u001b[0m\n\u001b[1;32m      2\u001b[0m obj1_direct_again \u001b[38;5;241m=\u001b[39m MyClass(\u001b[38;5;124m\"\u001b[39m\u001b[38;5;124mAlice\u001b[39m\u001b[38;5;124m\"\u001b[39m)\n\u001b[1;32m      4\u001b[0m \u001b[38;5;28mprint\u001b[39m(\u001b[38;5;28mid\u001b[39m(obj1_direct), \u001b[38;5;28mid\u001b[39m(obj1_direct_again))\n\u001b[0;32m----> 6\u001b[0m \u001b[38;5;28;01massert\u001b[39;00m \u001b[38;5;28mid\u001b[39m(obj1_direct) \u001b[38;5;241m==\u001b[39m \u001b[38;5;28mid\u001b[39m(obj1_direct_again), \u001b[38;5;124m\"\u001b[39m\u001b[38;5;124mThey are not equal.\u001b[39m\u001b[38;5;124m\"\u001b[39m\n",
      "\u001b[0;31mAssertionError\u001b[0m: They are not equal."
     ]
    }
   ],
   "source": [
    "obj1_direct = MyClass(\"Alice\")\n",
    "obj1_direct_again = MyClass(\"Alice\")\n",
    "\n",
    "print(id(obj1_direct), id(obj1_direct_again))\n",
    "\n",
    "assert id(obj1_direct) == id(obj1_direct_again), \"They are not equal.\""
   ]
  },
  {
   "cell_type": "markdown",
   "metadata": {},
   "source": [
    "Here, we create the objects through the cached method instead. As you can see here, the IDs of these objects are the same i.e. they are the same objects. So, singleton has been achieved. "
   ]
  },
  {
   "cell_type": "code",
   "execution_count": 5,
   "metadata": {},
   "outputs": [
    {
     "name": "stdout",
     "output_type": "stream",
     "text": [
      "They are equal.\n"
     ]
    },
    {
     "data": {
      "text/plain": [
       "(140514018132080, 140514018132080)"
      ]
     },
     "execution_count": 5,
     "metadata": {},
     "output_type": "execute_result"
    }
   ],
   "source": [
    "obj1_indirect = createInstance(\"Alice\")\n",
    "obj1_indirect_again = createInstance(\"Alice\")\n",
    "\n",
    "assert id(obj1_indirect) == id(obj1_indirect_again)\n",
    "\n",
    "print(\"They are equal.\")\n",
    "\n",
    "id(obj1_indirect), id(obj1_indirect_again)\n"
   ]
  },
  {
   "cell_type": "markdown",
   "metadata": {},
   "source": [
    "But if I create an object through this cached method with a different input parameter, the ID of the resulting object is going to be different. "
   ]
  },
  {
   "cell_type": "code",
   "execution_count": 6,
   "metadata": {},
   "outputs": [
    {
     "name": "stdout",
     "output_type": "stream",
     "text": [
      "140514018039872\n"
     ]
    },
    {
     "ename": "AssertionError",
     "evalue": "They are not equal.",
     "output_type": "error",
     "traceback": [
      "\u001b[0;31m---------------------------------------------------------------------------\u001b[0m",
      "\u001b[0;31mAssertionError\u001b[0m                            Traceback (most recent call last)",
      "Cell \u001b[0;32mIn[6], line 5\u001b[0m\n\u001b[1;32m      1\u001b[0m obj2_indirect \u001b[38;5;241m=\u001b[39m createInstance(\u001b[38;5;124m\"\u001b[39m\u001b[38;5;124mBob\u001b[39m\u001b[38;5;124m\"\u001b[39m)\n\u001b[1;32m      3\u001b[0m \u001b[38;5;28mprint\u001b[39m(\u001b[38;5;28mid\u001b[39m(obj2_indirect))\n\u001b[0;32m----> 5\u001b[0m \u001b[38;5;28;01massert\u001b[39;00m \u001b[38;5;28mid\u001b[39m(obj2_indirect) \u001b[38;5;241m==\u001b[39m \u001b[38;5;28mid\u001b[39m(obj1_indirect), \u001b[38;5;124m\"\u001b[39m\u001b[38;5;124mThey are not equal.\u001b[39m\u001b[38;5;124m\"\u001b[39m\n",
      "\u001b[0;31mAssertionError\u001b[0m: They are not equal."
     ]
    }
   ],
   "source": [
    "obj2_indirect = createInstance(\"Bob\")\n",
    "\n",
    "print(id(obj2_indirect))\n",
    "\n",
    "assert id(obj2_indirect) == id(obj1_indirect), \"They are not equal.\""
   ]
  }
 ],
 "metadata": {
  "kernelspec": {
   "display_name": "venv",
   "language": "python",
   "name": "python3"
  },
  "language_info": {
   "codemirror_mode": {
    "name": "ipython",
    "version": 3
   },
   "file_extension": ".py",
   "mimetype": "text/x-python",
   "name": "python",
   "nbconvert_exporter": "python",
   "pygments_lexer": "ipython3",
   "version": "3.10.12"
  }
 },
 "nbformat": 4,
 "nbformat_minor": 2
}
